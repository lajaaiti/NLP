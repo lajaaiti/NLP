{
  "cells": [
    {
      "cell_type": "markdown",
      "metadata": {
        "id": "view-in-github",
        "colab_type": "text"
      },
      "source": [
        "<a href=\"https://colab.research.google.com/github/lajaaiti/NLP/blob/main/LSTM_Elvis.ipynb\" target=\"_parent\"><img src=\"https://colab.research.google.com/assets/colab-badge.svg\" alt=\"Open In Colab\"/></a>"
      ]
    },
    {
      "cell_type": "code",
      "execution_count": 1,
      "metadata": {
        "id": "5gceEgIrzshh"
      },
      "outputs": [],
      "source": [
        "import numpy as np\n",
        "import pandas as pd\n",
        "import matplotlib.pyplot as plt\n",
        "import seaborn as sns\n",
        "import tensorflow as tf\n",
        "from tensorflow.keras.preprocessing.text import Tokenizer\n",
        "from keras_preprocessing.sequence import pad_sequences\n",
        "from tensorflow.keras.models import Sequential\n",
        "from tensorflow.keras.layers import Dense, LSTM, Embedding, Dropout, Bidirectional\n",
        "from tensorflow.keras.optimizers import Adam\n",
        "from tensorflow.keras.callbacks import ModelCheckpoint\n",
        "from tensorflow.keras.models import load_model\n",
        "from tensorflow.keras.utils import to_categorical\n",
        "from keras.callbacks import EarlyStopping"
      ]
    },
    {
      "cell_type": "code",
      "execution_count": 2,
      "metadata": {
        "id": "4pV51YIYzshm",
        "outputId": "086d580b-0faa-4ffc-9ccf-288c738870fa",
        "colab": {
          "base_uri": "https://localhost:8080/",
          "height": 206
        }
      },
      "outputs": [
        {
          "output_type": "execute_result",
          "data": {
            "text/plain": [
              "                        Titre  \\\n",
              "0  Can't Help Falling In Love   \n",
              "1            Suspicious Minds   \n",
              "2           Always On My Mind   \n",
              "3              Love Me Tender   \n",
              "4                      My Way   \n",
              "\n",
              "                                               Lyric  \n",
              "0  Wise men say, only fools rush in\\nBut I can't ...  \n",
              "1  We're caught in a trap\\nI can't walk out\\nBeca...  \n",
              "2  Maybe I didn't treat you,\\nQuite as good as I ...  \n",
              "3  Love me tender, love me sweet,\\nNever let me g...  \n",
              "4  And now the end is near\\nAnd so I face the fin...  "
            ],
            "text/html": [
              "\n",
              "  <div id=\"df-ec8ce91c-e1b3-4769-9c83-a53456c19661\">\n",
              "    <div class=\"colab-df-container\">\n",
              "      <div>\n",
              "<style scoped>\n",
              "    .dataframe tbody tr th:only-of-type {\n",
              "        vertical-align: middle;\n",
              "    }\n",
              "\n",
              "    .dataframe tbody tr th {\n",
              "        vertical-align: top;\n",
              "    }\n",
              "\n",
              "    .dataframe thead th {\n",
              "        text-align: right;\n",
              "    }\n",
              "</style>\n",
              "<table border=\"1\" class=\"dataframe\">\n",
              "  <thead>\n",
              "    <tr style=\"text-align: right;\">\n",
              "      <th></th>\n",
              "      <th>Titre</th>\n",
              "      <th>Lyric</th>\n",
              "    </tr>\n",
              "  </thead>\n",
              "  <tbody>\n",
              "    <tr>\n",
              "      <th>0</th>\n",
              "      <td>Can't Help Falling In Love</td>\n",
              "      <td>Wise men say, only fools rush in\\nBut I can't ...</td>\n",
              "    </tr>\n",
              "    <tr>\n",
              "      <th>1</th>\n",
              "      <td>Suspicious Minds</td>\n",
              "      <td>We're caught in a trap\\nI can't walk out\\nBeca...</td>\n",
              "    </tr>\n",
              "    <tr>\n",
              "      <th>2</th>\n",
              "      <td>Always On My Mind</td>\n",
              "      <td>Maybe I didn't treat you,\\nQuite as good as I ...</td>\n",
              "    </tr>\n",
              "    <tr>\n",
              "      <th>3</th>\n",
              "      <td>Love Me Tender</td>\n",
              "      <td>Love me tender, love me sweet,\\nNever let me g...</td>\n",
              "    </tr>\n",
              "    <tr>\n",
              "      <th>4</th>\n",
              "      <td>My Way</td>\n",
              "      <td>And now the end is near\\nAnd so I face the fin...</td>\n",
              "    </tr>\n",
              "  </tbody>\n",
              "</table>\n",
              "</div>\n",
              "      <button class=\"colab-df-convert\" onclick=\"convertToInteractive('df-ec8ce91c-e1b3-4769-9c83-a53456c19661')\"\n",
              "              title=\"Convert this dataframe to an interactive table.\"\n",
              "              style=\"display:none;\">\n",
              "        \n",
              "  <svg xmlns=\"http://www.w3.org/2000/svg\" height=\"24px\"viewBox=\"0 0 24 24\"\n",
              "       width=\"24px\">\n",
              "    <path d=\"M0 0h24v24H0V0z\" fill=\"none\"/>\n",
              "    <path d=\"M18.56 5.44l.94 2.06.94-2.06 2.06-.94-2.06-.94-.94-2.06-.94 2.06-2.06.94zm-11 1L8.5 8.5l.94-2.06 2.06-.94-2.06-.94L8.5 2.5l-.94 2.06-2.06.94zm10 10l.94 2.06.94-2.06 2.06-.94-2.06-.94-.94-2.06-.94 2.06-2.06.94z\"/><path d=\"M17.41 7.96l-1.37-1.37c-.4-.4-.92-.59-1.43-.59-.52 0-1.04.2-1.43.59L10.3 9.45l-7.72 7.72c-.78.78-.78 2.05 0 2.83L4 21.41c.39.39.9.59 1.41.59.51 0 1.02-.2 1.41-.59l7.78-7.78 2.81-2.81c.8-.78.8-2.07 0-2.86zM5.41 20L4 18.59l7.72-7.72 1.47 1.35L5.41 20z\"/>\n",
              "  </svg>\n",
              "      </button>\n",
              "      \n",
              "  <style>\n",
              "    .colab-df-container {\n",
              "      display:flex;\n",
              "      flex-wrap:wrap;\n",
              "      gap: 12px;\n",
              "    }\n",
              "\n",
              "    .colab-df-convert {\n",
              "      background-color: #E8F0FE;\n",
              "      border: none;\n",
              "      border-radius: 50%;\n",
              "      cursor: pointer;\n",
              "      display: none;\n",
              "      fill: #1967D2;\n",
              "      height: 32px;\n",
              "      padding: 0 0 0 0;\n",
              "      width: 32px;\n",
              "    }\n",
              "\n",
              "    .colab-df-convert:hover {\n",
              "      background-color: #E2EBFA;\n",
              "      box-shadow: 0px 1px 2px rgba(60, 64, 67, 0.3), 0px 1px 3px 1px rgba(60, 64, 67, 0.15);\n",
              "      fill: #174EA6;\n",
              "    }\n",
              "\n",
              "    [theme=dark] .colab-df-convert {\n",
              "      background-color: #3B4455;\n",
              "      fill: #D2E3FC;\n",
              "    }\n",
              "\n",
              "    [theme=dark] .colab-df-convert:hover {\n",
              "      background-color: #434B5C;\n",
              "      box-shadow: 0px 1px 3px 1px rgba(0, 0, 0, 0.15);\n",
              "      filter: drop-shadow(0px 1px 2px rgba(0, 0, 0, 0.3));\n",
              "      fill: #FFFFFF;\n",
              "    }\n",
              "  </style>\n",
              "\n",
              "      <script>\n",
              "        const buttonEl =\n",
              "          document.querySelector('#df-ec8ce91c-e1b3-4769-9c83-a53456c19661 button.colab-df-convert');\n",
              "        buttonEl.style.display =\n",
              "          google.colab.kernel.accessAllowed ? 'block' : 'none';\n",
              "\n",
              "        async function convertToInteractive(key) {\n",
              "          const element = document.querySelector('#df-ec8ce91c-e1b3-4769-9c83-a53456c19661');\n",
              "          const dataTable =\n",
              "            await google.colab.kernel.invokeFunction('convertToInteractive',\n",
              "                                                     [key], {});\n",
              "          if (!dataTable) return;\n",
              "\n",
              "          const docLinkHtml = 'Like what you see? Visit the ' +\n",
              "            '<a target=\"_blank\" href=https://colab.research.google.com/notebooks/data_table.ipynb>data table notebook</a>'\n",
              "            + ' to learn more about interactive tables.';\n",
              "          element.innerHTML = '';\n",
              "          dataTable['output_type'] = 'display_data';\n",
              "          await google.colab.output.renderOutput(dataTable, element);\n",
              "          const docLink = document.createElement('div');\n",
              "          docLink.innerHTML = docLinkHtml;\n",
              "          element.appendChild(docLink);\n",
              "        }\n",
              "      </script>\n",
              "    </div>\n",
              "  </div>\n",
              "  "
            ]
          },
          "metadata": {},
          "execution_count": 2
        }
      ],
      "source": [
        "# data import\n",
        "data = pd.read_csv('dfElvis.csv')\n",
        "data.head()"
      ]
    },
    {
      "cell_type": "code",
      "execution_count": 3,
      "metadata": {
        "id": "q69THb-zzsho",
        "outputId": "391ec561-0165-41ce-ec51-04532c5f59df",
        "colab": {
          "base_uri": "https://localhost:8080/",
          "height": 206
        }
      },
      "outputs": [
        {
          "output_type": "execute_result",
          "data": {
            "text/plain": [
              "                        Titre  \\\n",
              "0  Can't Help Falling In Love   \n",
              "1            Suspicious Minds   \n",
              "2           Always On My Mind   \n",
              "3              Love Me Tender   \n",
              "4                      My Way   \n",
              "\n",
              "                                               Lyric  Number_of_words  \n",
              "0  Wise men say, only fools rush in\\nBut I can't ...              110  \n",
              "1  We're caught in a trap\\nI can't walk out\\nBeca...              203  \n",
              "2  Maybe I didn't treat you,\\nQuite as good as I ...              159  \n",
              "3  Love me tender, love me sweet,\\nNever let me g...              125  \n",
              "4  And now the end is near\\nAnd so I face the fin...              249  "
            ],
            "text/html": [
              "\n",
              "  <div id=\"df-6bd1f669-2546-4a25-b528-e264c22a619d\">\n",
              "    <div class=\"colab-df-container\">\n",
              "      <div>\n",
              "<style scoped>\n",
              "    .dataframe tbody tr th:only-of-type {\n",
              "        vertical-align: middle;\n",
              "    }\n",
              "\n",
              "    .dataframe tbody tr th {\n",
              "        vertical-align: top;\n",
              "    }\n",
              "\n",
              "    .dataframe thead th {\n",
              "        text-align: right;\n",
              "    }\n",
              "</style>\n",
              "<table border=\"1\" class=\"dataframe\">\n",
              "  <thead>\n",
              "    <tr style=\"text-align: right;\">\n",
              "      <th></th>\n",
              "      <th>Titre</th>\n",
              "      <th>Lyric</th>\n",
              "      <th>Number_of_words</th>\n",
              "    </tr>\n",
              "  </thead>\n",
              "  <tbody>\n",
              "    <tr>\n",
              "      <th>0</th>\n",
              "      <td>Can't Help Falling In Love</td>\n",
              "      <td>Wise men say, only fools rush in\\nBut I can't ...</td>\n",
              "      <td>110</td>\n",
              "    </tr>\n",
              "    <tr>\n",
              "      <th>1</th>\n",
              "      <td>Suspicious Minds</td>\n",
              "      <td>We're caught in a trap\\nI can't walk out\\nBeca...</td>\n",
              "      <td>203</td>\n",
              "    </tr>\n",
              "    <tr>\n",
              "      <th>2</th>\n",
              "      <td>Always On My Mind</td>\n",
              "      <td>Maybe I didn't treat you,\\nQuite as good as I ...</td>\n",
              "      <td>159</td>\n",
              "    </tr>\n",
              "    <tr>\n",
              "      <th>3</th>\n",
              "      <td>Love Me Tender</td>\n",
              "      <td>Love me tender, love me sweet,\\nNever let me g...</td>\n",
              "      <td>125</td>\n",
              "    </tr>\n",
              "    <tr>\n",
              "      <th>4</th>\n",
              "      <td>My Way</td>\n",
              "      <td>And now the end is near\\nAnd so I face the fin...</td>\n",
              "      <td>249</td>\n",
              "    </tr>\n",
              "  </tbody>\n",
              "</table>\n",
              "</div>\n",
              "      <button class=\"colab-df-convert\" onclick=\"convertToInteractive('df-6bd1f669-2546-4a25-b528-e264c22a619d')\"\n",
              "              title=\"Convert this dataframe to an interactive table.\"\n",
              "              style=\"display:none;\">\n",
              "        \n",
              "  <svg xmlns=\"http://www.w3.org/2000/svg\" height=\"24px\"viewBox=\"0 0 24 24\"\n",
              "       width=\"24px\">\n",
              "    <path d=\"M0 0h24v24H0V0z\" fill=\"none\"/>\n",
              "    <path d=\"M18.56 5.44l.94 2.06.94-2.06 2.06-.94-2.06-.94-.94-2.06-.94 2.06-2.06.94zm-11 1L8.5 8.5l.94-2.06 2.06-.94-2.06-.94L8.5 2.5l-.94 2.06-2.06.94zm10 10l.94 2.06.94-2.06 2.06-.94-2.06-.94-.94-2.06-.94 2.06-2.06.94z\"/><path d=\"M17.41 7.96l-1.37-1.37c-.4-.4-.92-.59-1.43-.59-.52 0-1.04.2-1.43.59L10.3 9.45l-7.72 7.72c-.78.78-.78 2.05 0 2.83L4 21.41c.39.39.9.59 1.41.59.51 0 1.02-.2 1.41-.59l7.78-7.78 2.81-2.81c.8-.78.8-2.07 0-2.86zM5.41 20L4 18.59l7.72-7.72 1.47 1.35L5.41 20z\"/>\n",
              "  </svg>\n",
              "      </button>\n",
              "      \n",
              "  <style>\n",
              "    .colab-df-container {\n",
              "      display:flex;\n",
              "      flex-wrap:wrap;\n",
              "      gap: 12px;\n",
              "    }\n",
              "\n",
              "    .colab-df-convert {\n",
              "      background-color: #E8F0FE;\n",
              "      border: none;\n",
              "      border-radius: 50%;\n",
              "      cursor: pointer;\n",
              "      display: none;\n",
              "      fill: #1967D2;\n",
              "      height: 32px;\n",
              "      padding: 0 0 0 0;\n",
              "      width: 32px;\n",
              "    }\n",
              "\n",
              "    .colab-df-convert:hover {\n",
              "      background-color: #E2EBFA;\n",
              "      box-shadow: 0px 1px 2px rgba(60, 64, 67, 0.3), 0px 1px 3px 1px rgba(60, 64, 67, 0.15);\n",
              "      fill: #174EA6;\n",
              "    }\n",
              "\n",
              "    [theme=dark] .colab-df-convert {\n",
              "      background-color: #3B4455;\n",
              "      fill: #D2E3FC;\n",
              "    }\n",
              "\n",
              "    [theme=dark] .colab-df-convert:hover {\n",
              "      background-color: #434B5C;\n",
              "      box-shadow: 0px 1px 3px 1px rgba(0, 0, 0, 0.15);\n",
              "      filter: drop-shadow(0px 1px 2px rgba(0, 0, 0, 0.3));\n",
              "      fill: #FFFFFF;\n",
              "    }\n",
              "  </style>\n",
              "\n",
              "      <script>\n",
              "        const buttonEl =\n",
              "          document.querySelector('#df-6bd1f669-2546-4a25-b528-e264c22a619d button.colab-df-convert');\n",
              "        buttonEl.style.display =\n",
              "          google.colab.kernel.accessAllowed ? 'block' : 'none';\n",
              "\n",
              "        async function convertToInteractive(key) {\n",
              "          const element = document.querySelector('#df-6bd1f669-2546-4a25-b528-e264c22a619d');\n",
              "          const dataTable =\n",
              "            await google.colab.kernel.invokeFunction('convertToInteractive',\n",
              "                                                     [key], {});\n",
              "          if (!dataTable) return;\n",
              "\n",
              "          const docLinkHtml = 'Like what you see? Visit the ' +\n",
              "            '<a target=\"_blank\" href=https://colab.research.google.com/notebooks/data_table.ipynb>data table notebook</a>'\n",
              "            + ' to learn more about interactive tables.';\n",
              "          element.innerHTML = '';\n",
              "          dataTable['output_type'] = 'display_data';\n",
              "          await google.colab.output.renderOutput(dataTable, element);\n",
              "          const docLink = document.createElement('div');\n",
              "          docLink.innerHTML = docLinkHtml;\n",
              "          element.appendChild(docLink);\n",
              "        }\n",
              "      </script>\n",
              "    </div>\n",
              "  </div>\n",
              "  "
            ]
          },
          "metadata": {},
          "execution_count": 3
        }
      ],
      "source": [
        "data['Number_of_words'] = data['Lyric'].apply(lambda x:len(str(x).split()))\n",
        "data.head()"
      ]
    },
    {
      "cell_type": "code",
      "execution_count": 4,
      "metadata": {
        "id": "MfVCrGXLzshp",
        "outputId": "89ce6d45-547a-47cb-a638-b5be98c8d406",
        "colab": {
          "base_uri": "https://localhost:8080/"
        }
      },
      "outputs": [
        {
          "output_type": "execute_result",
          "data": {
            "text/plain": [
              "count    747.000000\n",
              "mean     154.759036\n",
              "std       66.081887\n",
              "min       17.000000\n",
              "25%      106.000000\n",
              "50%      149.000000\n",
              "75%      192.000000\n",
              "max      452.000000\n",
              "Name: Number_of_words, dtype: float64"
            ]
          },
          "metadata": {},
          "execution_count": 4
        }
      ],
      "source": [
        "data['Number_of_words'].describe()"
      ]
    },
    {
      "cell_type": "code",
      "execution_count": 5,
      "metadata": {
        "id": "cZI-FVYgzshp",
        "outputId": "56075b70-c7cd-41a1-d5f5-f7cddc9fca28",
        "colab": {
          "base_uri": "https://localhost:8080/",
          "height": 484
        }
      },
      "outputs": [
        {
          "output_type": "stream",
          "name": "stderr",
          "text": [
            "/usr/local/lib/python3.7/dist-packages/seaborn/distributions.py:2619: FutureWarning: `distplot` is a deprecated function and will be removed in a future version. Please adapt your code to use either `displot` (a figure-level function with similar flexibility) or `histplot` (an axes-level function for histograms).\n",
            "  warnings.warn(msg, FutureWarning)\n"
          ]
        },
        {
          "output_type": "execute_result",
          "data": {
            "text/plain": [
              "Text(0.5, 1.0, 'Frequency distribution of number of words for each text extracted')"
            ]
          },
          "metadata": {},
          "execution_count": 5
        },
        {
          "output_type": "display_data",
          "data": {
            "text/plain": [
              "<Figure size 864x432 with 1 Axes>"
            ],
            "image/png": "[encoded data removed]"
          },
          "metadata": {}
        }
      ],
      "source": [
        "import matplotlib.pyplot as plt\n",
        "plt.style.use('ggplot')\n",
        "plt.figure(figsize=(12,6))\n",
        "sns.distplot(data['Number_of_words'],kde = False,color=\"red\",bins=200)\n",
        "plt.title(\"Frequency distribution of number of words for each text extracted\", size=20)"
      ]
    },
    {
      "cell_type": "code",
      "execution_count": 6,
      "metadata": {
        "id": "5BJdE_9Bzshq",
        "outputId": "da60c011-51bd-4cf7-a64f-2e257506e37b",
        "colab": {
          "base_uri": "https://localhost:8080/"
        }
      },
      "outputs": [
        {
          "output_type": "execute_result",
          "data": {
            "text/plain": [
              "[434,\n",
              " 646,\n",
              " 74,\n",
              " 99,\n",
              " 1358,\n",
              " 983,\n",
              " 9,\n",
              " 24,\n",
              " 2,\n",
              " 67,\n",
              " 231,\n",
              " 496,\n",
              " 9,\n",
              " 11,\n",
              " 27,\n",
              " 3,\n",
              " 299,\n",
              " 2,\n",
              " 176,\n",
              " 123,\n",
              " 16,\n",
              " 13,\n",
              " 4,\n",
              " 723,\n",
              " 33,\n",
              " 2,\n",
              " 67,\n",
              " 231,\n",
              " 496,\n",
              " 9,\n",
              " 11,\n",
              " 27,\n",
              " 3,\n",
              " 35,\n",
              " 4,\n",
              " 672,\n",
              " 1670,\n",
              " 673,\n",
              " 6,\n",
              " 1,\n",
              " 317,\n",
              " 177,\n",
              " 22,\n",
              " 16,\n",
              " 390,\n",
              " 2662,\n",
              " 62,\n",
              " 820,\n",
              " 6,\n",
              " 13,\n",
              " 77,\n",
              " 8,\n",
              " 109,\n",
              " 77,\n",
              " 8,\n",
              " 228,\n",
              " 97,\n",
              " 104,\n",
              " 17,\n",
              " 2,\n",
              " 67,\n",
              " 231,\n",
              " 496,\n",
              " 9,\n",
              " 11,\n",
              " 27,\n",
              " 3,\n",
              " 35,\n",
              " 4,\n",
              " 672,\n",
              " 1670,\n",
              " 673,\n",
              " 6,\n",
              " 1,\n",
              " 317,\n",
              " 177,\n",
              " 22,\n",
              " 16,\n",
              " 390,\n",
              " 2662,\n",
              " 62,\n",
              " 820,\n",
              " 6,\n",
              " 13,\n",
              " 77,\n",
              " 8,\n",
              " 109,\n",
              " 77,\n",
              " 8,\n",
              " 228,\n",
              " 97,\n",
              " 104,\n",
              " 17,\n",
              " 2,\n",
              " 67,\n",
              " 231,\n",
              " 496,\n",
              " 9,\n",
              " 11,\n",
              " 27,\n",
              " 3,\n",
              " 17,\n",
              " 2,\n",
              " 67,\n",
              " 231,\n",
              " 496,\n",
              " 9,\n",
              " 11,\n",
              " 27,\n",
              " 3]"
            ]
          },
          "metadata": {},
          "execution_count": 6
        }
      ],
      "source": [
        "# Tokenization\n",
        "tokenizer = Tokenizer()\n",
        "tokenizer.fit_on_texts(data['Lyric'].astype(str).str.lower())\n",
        "\n",
        "total_words = len(tokenizer.word_index)+1\n",
        "tokenized_sentences = tokenizer.texts_to_sequences(data['Lyric'].astype(str))\n",
        "tokenized_sentences[0]"
      ]
    },
    {
      "cell_type": "code",
      "execution_count": 7,
      "metadata": {
        "id": "dswce-Bszshr"
      },
      "outputs": [],
      "source": [
        "#Slash sequences into n gram sequence\n",
        "input_sequences = list()\n",
        "for i in tokenized_sentences:\n",
        "    for t in range(1, len(i)):\n",
        "        n_gram_sequence = i[:t+1]\n",
        "        input_sequences.append(n_gram_sequence)\n",
        "        \n",
        "# Pre padding\n",
        "max_sequence_len = max([len(x) for x in input_sequences])\n",
        "input_sequences = np.array(pad_sequences(input_sequences, maxlen=max_sequence_len, padding='pre'))"
      ]
    },
    {
      "cell_type": "code",
      "execution_count": 8,
      "metadata": {
        "id": "F9CZ0aVyzshs",
        "outputId": "e791d313-b5f5-45ee-a199-e9b5f7c02962",
        "colab": {
          "base_uri": "https://localhost:8080/"
        }
      },
      "outputs": [
        {
          "output_type": "execute_result",
          "data": {
            "text/plain": [
              "array([[  0,   0,   0, ...,   0, 434, 646],\n",
              "       [  0,   0,   0, ..., 434, 646,  74],\n",
              "       [  0,   0,   0, ..., 646,  74,  99],\n",
              "       ...,\n",
              "       [  0,   0,   0, ...,   9,  24,   2],\n",
              "       [  0,   0,   0, ...,  24,   2,  67],\n",
              "       [  0,   0,   0, ...,   2,  67, 231]], dtype=int32)"
            ]
          },
          "metadata": {},
          "execution_count": 8
        }
      ],
      "source": [
        "input_sequences[:10]"
      ]
    },
    {
      "cell_type": "code",
      "execution_count": 9,
      "metadata": {
        "id": "29aLfF4xzsht"
      },
      "outputs": [],
      "source": [
        "# create predictors and label\n",
        "X, labels = input_sequences[:,:-1],input_sequences[:,-1]\n",
        "y = tf.keras.utils.to_categorical(labels, num_classes=total_words)"
      ]
    },
    {
      "cell_type": "code",
      "execution_count": 10,
      "metadata": {
        "id": "xb-dqT0dzshu",
        "outputId": "2f99cedf-6194-471f-9870-0e31625c4506",
        "colab": {
          "base_uri": "https://localhost:8080/"
        }
      },
      "outputs": [
        {
          "output_type": "stream",
          "name": "stdout",
          "text": [
            "Epoch 1/40\n",
            "3596/3596 [==============================] - 202s 54ms/step - loss: 5.9584 - accuracy: 0.0739\n",
            "Epoch 2/40\n",
            "3596/3596 [==============================] - 191s 53ms/step - loss: 5.1275 - accuracy: 0.1348\n",
            "Epoch 3/40\n",
            "3596/3596 [==============================] - 194s 54ms/step - loss: 4.5117 - accuracy: 0.1903\n",
            "Epoch 4/40\n",
            "3596/3596 [==============================] - 191s 53ms/step - loss: 4.0103 - accuracy: 0.2448\n",
            "Epoch 5/40\n",
            "3596/3596 [==============================] - 189s 53ms/step - loss: 3.5974 - accuracy: 0.2972\n",
            "Epoch 6/40\n",
            "3596/3596 [==============================] - 188s 52ms/step - loss: 3.2599 - accuracy: 0.3431\n",
            "Epoch 7/40\n",
            "3596/3596 [==============================] - 188s 52ms/step - loss: 2.9817 - accuracy: 0.3852\n",
            "Epoch 8/40\n",
            "3596/3596 [==============================] - 188s 52ms/step - loss: 2.7449 - accuracy: 0.4213\n",
            "Epoch 9/40\n",
            "3596/3596 [==============================] - 187s 52ms/step - loss: 2.5520 - accuracy: 0.4535\n",
            "Epoch 10/40\n",
            "3596/3596 [==============================] - 187s 52ms/step - loss: 2.3843 - accuracy: 0.4836\n",
            "Epoch 11/40\n",
            "3596/3596 [==============================] - 186s 52ms/step - loss: 2.2464 - accuracy: 0.5061\n",
            "Epoch 12/40\n",
            "3596/3596 [==============================] - 186s 52ms/step - loss: 2.1275 - accuracy: 0.5275\n",
            "Epoch 13/40\n",
            "3596/3596 [==============================] - 189s 52ms/step - loss: 2.0268 - accuracy: 0.5454\n",
            "Epoch 14/40\n",
            "3596/3596 [==============================] - 187s 52ms/step - loss: 1.9369 - accuracy: 0.5616\n",
            "Epoch 15/40\n",
            "3596/3596 [==============================] - 187s 52ms/step - loss: 1.8646 - accuracy: 0.5724\n",
            "Epoch 16/40\n",
            "3596/3596 [==============================] - 185s 52ms/step - loss: 1.7998 - accuracy: 0.5848\n",
            "Epoch 17/40\n",
            "3596/3596 [==============================] - 186s 52ms/step - loss: 1.7478 - accuracy: 0.5923\n",
            "Epoch 18/40\n",
            "3596/3596 [==============================] - 185s 51ms/step - loss: 1.6900 - accuracy: 0.6045\n",
            "Epoch 19/40\n",
            "3596/3596 [==============================] - 184s 51ms/step - loss: 1.6484 - accuracy: 0.6115\n",
            "Epoch 20/40\n",
            "3596/3596 [==============================] - 183s 51ms/step - loss: 1.6106 - accuracy: 0.6169\n",
            "Epoch 21/40\n",
            "3596/3596 [==============================] - 188s 52ms/step - loss: 1.5797 - accuracy: 0.6230\n",
            "Epoch 22/40\n",
            "3596/3596 [==============================] - 184s 51ms/step - loss: 1.5555 - accuracy: 0.6261\n",
            "Epoch 23/40\n",
            "3596/3596 [==============================] - 185s 52ms/step - loss: 1.5298 - accuracy: 0.6305\n",
            "Epoch 24/40\n",
            "3596/3596 [==============================] - 183s 51ms/step - loss: 1.5079 - accuracy: 0.6341\n",
            "Epoch 25/40\n",
            "3596/3596 [==============================] - 184s 51ms/step - loss: 1.4898 - accuracy: 0.6365\n",
            "Epoch 26/40\n",
            "3596/3596 [==============================] - 184s 51ms/step - loss: 1.4725 - accuracy: 0.6398\n",
            "Epoch 27/40\n",
            "3596/3596 [==============================] - 183s 51ms/step - loss: 1.4673 - accuracy: 0.6395\n",
            "Epoch 28/40\n",
            "3596/3596 [==============================] - 184s 51ms/step - loss: 1.4568 - accuracy: 0.6408\n",
            "Epoch 29/40\n",
            "3596/3596 [==============================] - 184s 51ms/step - loss: 1.4519 - accuracy: 0.6410\n",
            "Epoch 30/40\n",
            "3596/3596 [==============================] - 184s 51ms/step - loss: 1.4371 - accuracy: 0.6434\n",
            "Epoch 31/40\n",
            "3596/3596 [==============================] - 183s 51ms/step - loss: 1.4435 - accuracy: 0.6409\n",
            "Epoch 32/40\n",
            "3596/3596 [==============================] - 183s 51ms/step - loss: 1.4365 - accuracy: 0.6423\n",
            "Epoch 33/40\n",
            "3596/3596 [==============================] - 188s 52ms/step - loss: 1.4438 - accuracy: 0.6402\n",
            "Epoch 34/40\n",
            "3596/3596 [==============================] - 189s 53ms/step - loss: 1.4469 - accuracy: 0.6385\n",
            "Epoch 35/40\n",
            "3596/3596 [==============================] - 189s 53ms/step - loss: 1.4321 - accuracy: 0.6418\n",
            "Epoch 36/40\n",
            "3596/3596 [==============================] - 194s 54ms/step - loss: 1.4289 - accuracy: 0.6416\n",
            "Epoch 37/40\n",
            "3596/3596 [==============================] - 192s 53ms/step - loss: 1.4459 - accuracy: 0.6389\n",
            "Epoch 38/40\n",
            "3596/3596 [==============================] - 188s 52ms/step - loss: 1.4576 - accuracy: 0.6341\n",
            "Epoch 39/40\n",
            "3596/3596 [==============================] - 189s 53ms/step - loss: 1.4563 - accuracy: 0.6348\n"
          ]
        }
      ],
      "source": [
        "# create model\n",
        "model = Sequential()\n",
        "model.add(Embedding(total_words, 40, input_length=max_sequence_len-1))\n",
        "model.add(Bidirectional(LSTM(240)))\n",
        "model.add(Dropout(0.1))\n",
        "model.add(Dense(total_words, activation='softmax'))\n",
        "model.compile(loss='categorical_crossentropy', optimizer='adam', metrics=['accuracy'])\n",
        "earlystop = EarlyStopping(monitor='loss', min_delta=0, patience=3, verbose=0, mode='auto')\n",
        "history = model.fit(X, y, epochs=40, verbose=1, callbacks=[earlystop])"
      ]
    },
    {
      "cell_type": "code",
      "execution_count": 11,
      "metadata": {
        "id": "wvqzlW3Dzshv",
        "outputId": "962e1e3f-8114-477c-fb7c-004dffbb1a0a",
        "colab": {
          "base_uri": "https://localhost:8080/",
          "height": 282
        }
      },
      "outputs": [
        {
          "output_type": "display_data",
          "data": {
            "text/plain": [
              "<Figure size 432x288 with 1 Axes>"
            ],
            "image/png": "[encoded data removed]"
          },
          "metadata": {}
        },
        {
          "output_type": "display_data",
          "data": {
            "text/plain": [
              "<Figure size 432x288 with 0 Axes>"
            ]
          },
          "metadata": {}
        }
      ],
      "source": [
        "# plot the accuracy\n",
        "plt.plot(history.history['accuracy'], label='train acc')\n",
        "plt.legend()\n",
        "plt.show()\n",
        "plt.savefig('AccVal_acc')"
      ]
    },
    {
      "cell_type": "code",
      "execution_count": 14,
      "metadata": {
        "id": "ewzenKE8zshw"
      },
      "outputs": [],
      "source": [
        "def complete_this_song(seed_text, next_words):\n",
        "    for _ in range(next_words):\n",
        "        token_list = tokenizer.texts_to_sequences([seed_text])[0]\n",
        "        token_list = pad_sequences([token_list], maxlen=max_sequence_len-1, padding='pre')\n",
        "        predicted = model.predict(token_list, verbose=0)\n",
        "        predicted =np.argmax(predicted,axis=1)\n",
        "        #predicted = np.round(predicted).astype(int)\n",
        "        \n",
        "        output_word = \"\"\n",
        "        for word, index in tokenizer.word_index.items():\n",
        "            if index == predicted:\n",
        "                output_word = word\n",
        "                break\n",
        "        seed_text += \" \" + output_word\n",
        "    return seed_text"
      ]
    },
    {
      "cell_type": "code",
      "execution_count": 17,
      "metadata": {
        "id": "KFH0r1W9zshx",
        "outputId": "26eb498c-5738-4d5c-9d96-ba31d0ac9c29",
        "colab": {
          "base_uri": "https://localhost:8080/",
          "height": 53
        }
      },
      "outputs": [
        {
          "output_type": "execute_result",
          "data": {
            "text/plain": [
              "'the sky is blue i long to be true i know the best i finally ever never ever ever never never never never never never never never never never never ever never never never ever ever never never never ever never never never ever never never never ever ever never never ever ever never'"
            ],
            "application/vnd.google.colaboratory.intrinsic+json": {
              "type": "string"
            }
          },
          "metadata": {},
          "execution_count": 17
        }
      ],
      "source": [
        "complete_this_song(\"the sky is blue\", 50)"
      ]
    },
    {
      "cell_type": "code",
      "execution_count": 16,
      "metadata": {
        "id": "IM_n7Anmzshy"
      },
      "outputs": [],
      "source": [
        "# save model\n",
        "model.save('Elvis_generator_bis.h5')"
      ]
    }
  ],
  "metadata": {
    "kernelspec": {
      "display_name": "Python 3.10.6 64-bit",
      "language": "python",
      "name": "python3"
    },
    "language_info": {
      "codemirror_mode": {
        "name": "ipython",
        "version": 3
      },
      "file_extension": ".py",
      "mimetype": "text/x-python",
      "name": "python",
      "nbconvert_exporter": "python",
      "pygments_lexer": "ipython3",
      "version": "3.10.6"
    },
    "orig_nbformat": 4,
    "vscode": {
      "interpreter": {
        "hash": "916dbcbb3f70747c44a77c7bcd40155683ae19c65e1c03b4aa3499c5328201f1"
      }
    },
    "colab": {
      "provenance": [],
      "collapsed_sections": [],
      "include_colab_link": true
    },
    "accelerator": "GPU"
  },
  "nbformat": 4,
  "nbformat_minor": 0
}